{
  "nbformat": 4,
  "nbformat_minor": 0,
  "metadata": {
    "colab": {
      "name": "FinalNN.ipynb",
      "provenance": [],
      "collapsed_sections": [],
      "authorship_tag": "ABX9TyPHVM1RjJkV0hBgDCWO1krg",
      "include_colab_link": true
    },
    "kernelspec": {
      "name": "python3",
      "display_name": "Python 3"
    },
    "language_info": {
      "name": "python"
    },
    "accelerator": "TPU"
  },
  "cells": [
    {
      "cell_type": "markdown",
      "metadata": {
        "id": "view-in-github",
        "colab_type": "text"
      },
      "source": [
        "<a href=\"https://colab.research.google.com/github/Khushm/SRIP-IITGN-2022/blob/main/Neural%20Network%20Classifier.ipynb\" target=\"_parent\"><img src=\"https://colab.research.google.com/assets/colab-badge.svg\" alt=\"Open In Colab\"/></a>"
      ]
    },
    {
      "cell_type": "markdown",
      "source": [
        "# Neural Networks\n",
        "Neural networks consists of neurons, connections between these neurons called weights and some biases connected to each neuron. We distinguish between input, hidden and output layers, where we hope each layer helps us towards solving our problem.\n",
        "\n",
        "It is designed to recognize patterns in complex data, and often performs the best when recognizing patterns in audio, images or video."
      ],
      "metadata": {
        "id": "2ozrskC7zBbz"
      }
    },
    {
      "cell_type": "code",
      "source": [
        "# importing the required jax numpy library for calculations\n",
        "import jax.tools.colab_tpu\n",
        "import jax.numpy as jnp\n",
        "from jax.scipy.special import logsumexp\n",
        "from sklearn.metrics import mean_squared_error\n",
        "import numpy as np\n",
        "import jax\n",
        "from jax import jit, vmap, pmap, grad, value_and_grad, random\n",
        "\n",
        "from torchvision.datasets import MNIST\n",
        "from torch.utils.data import DataLoader\n",
        "\n",
        "# importing matplotlib for visualization\n",
        "import matplotlib.pyplot as plt"
      ],
      "metadata": {
        "id": "BjEeO5o3P7I1"
      },
      "execution_count": 11,
      "outputs": []
    },
    {
      "cell_type": "markdown",
      "source": [
        "## Hyperparameters"
      ],
      "metadata": {
        "id": "NvCrdKWplW8G"
      }
    },
    {
      "cell_type": "code",
      "source": [
        "layer_sizes = [784, 512, 512, 10]\n",
        "step_size = 0.01\n",
        "num_epochs = 10\n",
        "batch_size = 128\n",
        "n_targets = 10\n",
        "mnist_img_size = (28, 28)\n",
        "\n",
        "seed = 0\n",
        "key = jax.random.PRNGKey(seed)"
      ],
      "metadata": {
        "id": "3NW2-jOelRZc"
      },
      "execution_count": 12,
      "outputs": []
    },
    {
      "cell_type": "code",
      "source": [
        "# Function to initialize all layers for a fully-connected neural network with sizes \"sizes\"\n",
        "def init_network_params(layer_sizes, key, step_size=step_size):\n",
        "  params = []\n",
        "  keys = random.split(key, num=len(layer_sizes)-1)\n",
        "  \n",
        "  # loop to randomly initialize weights and biases\n",
        "  # for a dense neural network layer\n",
        "  for in_width, out_width, key in zip(layer_sizes[:-1], layer_sizes[1:], keys):\n",
        "    weight_key, bias_key = jax.random.split(key) # Bias is used to approximate where the value of the new neuron starts to be meaningful\n",
        "    params.append([\n",
        "          step_size * jax.random.normal(weight_key, shape=(out_width, in_width)),\n",
        "          step_size * jax.random.normal(bias_key, shape=(out_width,))\n",
        "          ])\n",
        "  return params\n",
        "\n",
        "\n",
        "params = init_network_params(layer_sizes, key, step_size)\n",
        "print(jax.tree_map(lambda x: x.shape, params))"
      ],
      "metadata": {
        "id": "-bFD8iERrxHx",
        "colab": {
          "base_uri": "https://localhost:8080/"
        },
        "outputId": "e84cc266-9714-462d-8845-931820494f60"
      },
      "execution_count": 13,
      "outputs": [
        {
          "output_type": "stream",
          "name": "stdout",
          "text": [
            "[[(512, 784), (512,)], [(512, 512), (512,)], [(10, 512), (10,)]]\n"
          ]
        }
      ]
    },
    {
      "cell_type": "markdown",
      "source": [
        "## Forward pass\n",
        "To move forward through the network, called a forward pass, we iteratively use a formula to calculate each neuron in the next layer.\n",
        "\n",
        "We have something called mini-batches(batched_predict), where we average the gradient of some number of defined observation per mini-batch, and then we have the basic neural network setup."
      ],
      "metadata": {
        "id": "-FM_oSJAzget"
      }
    },
    {
      "cell_type": "code",
      "source": [
        "# Activation function for the neurons\n",
        "# ReLU stands for Rectified Linear Unit.\n",
        "# The main advantage is simple and sparsity\n",
        "def relu(x):\n",
        "  return jnp.maximum(0, x)\n",
        "\n",
        "\n",
        "# predict function produces result of the network prediction for each sample\n",
        "# This function is very similar to feed forward,\n",
        "# First we find neurons' values for hidden layer, then for output layer\n",
        "def predict(params, image):\n",
        "   hidden_layers = params[:-1]\n",
        "\n",
        "   activations = image\n",
        "   for w, b in hidden_layers:\n",
        "     outputs = jnp.dot(w, activations) + b\n",
        "     activations = relu(outputs)\n",
        "\n",
        "   final_w, final_b = params[-1]\n",
        "   logits = jnp.dot(final_w, activations) + final_b\n",
        "   return logits - logsumexp(logits) \n",
        "\n",
        "\n",
        "x = np.random.randn(np.prod(mnist_img_size))\n",
        "random_flattened_images = np.random.randn(16, np.prod(mnist_img_size))\n",
        "\n",
        "# use JAX’s vmap function to automatically handle mini-batches, \n",
        "# with no performance penalty\n",
        "batched_predict = vmap(predict, in_axes=(None,0))\n",
        "predictions = batched_predict(params, random_flattened_images)\n",
        "print(predictions.shape)"
      ],
      "metadata": {
        "id": "D-Xr_EfIP53l",
        "colab": {
          "base_uri": "https://localhost:8080/"
        },
        "outputId": "c6072816-19c5-4ad0-9a92-948c8cba99c4"
      },
      "execution_count": 18,
      "outputs": [
        {
          "output_type": "stream",
          "name": "stdout",
          "text": [
            "(16, 10)\n"
          ]
        }
      ]
    },
    {
      "cell_type": "markdown",
      "source": [
        "At this point, we have all the ingredients we need to define our neural network and train it. "
      ],
      "metadata": {
        "id": "YWqfEST1pqYk"
      }
    },
    {
      "cell_type": "markdown",
      "source": [
        "## Data Loading\n",
        "Trying to classify digits from 0 - 9 using a dataset called MNIST. This data set consists of 70,000 images that are 28 by 28 pixels each. The data set contains one label for each image that specifies the digit and there are 10 classes/labels.\n"
      ],
      "metadata": {
        "id": "r7mh-Acfsx81"
      }
    },
    {
      "cell_type": "code",
      "source": [
        "def custom_transform(x):\n",
        "    return jnp.ravel(jnp.array(x, dtype=jnp.float32))\n",
        "\n",
        "def custom_collate_fn(batch):\n",
        "    transposed_data = list(zip(*batch))\n",
        "\n",
        "    labels = jnp.array(transposed_data[1])\n",
        "    imgs = jnp.stack(transposed_data[0])\n",
        "\n",
        "    return imgs, labels\n",
        "\n",
        "\n",
        "train_dataset = MNIST(root='train_mnist', train=True, download=True, transform=custom_transform)\n",
        "test_dataset = MNIST(root='test_mnist', train=False, download=True, transform=custom_transform)\n",
        "\n",
        "train_loader = DataLoader(train_dataset, batch_size, shuffle=True, collate_fn=custom_collate_fn, drop_last=True)\n",
        "test_loader = DataLoader(test_dataset, batch_size, shuffle=False, collate_fn=custom_collate_fn, drop_last=True)\n",
        "\n",
        "batch_data = next(iter(train_loader))\n",
        "imgs = batch_data[0]\n",
        "lbls = batch_data[1]\n",
        "print(imgs.shape, imgs[0].dtype, lbls.shape, lbls[0].dtype)\n",
        "\n",
        "# optimization - loading the whole dataset into memory\n",
        "train_images = jnp.array(train_dataset.data).reshape(len(train_dataset), -1)\n",
        "train_lbls = jnp.array(train_dataset.targets)\n",
        "\n",
        "test_images = jnp.array(test_dataset.data).reshape(len(test_dataset), -1)\n",
        "test_lbls = jnp.array(test_dataset.targets)"
      ],
      "metadata": {
        "colab": {
          "base_uri": "https://localhost:8080/"
        },
        "id": "q172TJ7UYCkb",
        "outputId": "1c889a8b-4198-4bc5-8549-5f2b3cb9a390"
      },
      "execution_count": 19,
      "outputs": [
        {
          "output_type": "stream",
          "name": "stdout",
          "text": [
            "(128, 784) float32 (128,) int32\n"
          ]
        }
      ]
    },
    {
      "cell_type": "markdown",
      "source": [
        "## Training and Utility, loss functions\n",
        "Defining the layers in an exact way. \n",
        "1. **Input layer**: In this layer, I input my data set consisting of 28x28 images and flatten these images into one array with 28×28=78428×28=784 elements. This means that the input layer will have 784 nodes.\n",
        "\n",
        "2. Hidden layer 1: In this layer, I reduce the number of nodes from 784 in the input layer to 512 nodes.\n",
        "\n",
        "3. Hidden layer 2: In this layer, I decide to go with 256 nodes, from the 512 nodes in the first hidden layer. This is no new challenge because I've already reduced the number in the first layer.\n",
        "\n",
        "4. Output layer: In this layer, I reduce the 256 nodes to a total of 10 nodes so that I can evaluate the nodes against the label. This label is received in the form of an array with 10 elements, where one of the elements is 1 while the rest are 0.\n",
        "\n",
        "The specific number of nodes chosen were at random, although decreasing to avoid overfitting."
      ],
      "metadata": {
        "id": "VRh3gI9ysiuL"
      }
    },
    {
      "cell_type": "code",
      "source": [
        "def loss(params, images, gt_lbls):\n",
        "    predictions = batched_predict(params, images)\n",
        "    return -jnp.mean(predictions * gt_lbls)\n",
        "\n",
        "\n",
        "def accuracy(params, images, target_class):\n",
        "    predicted_class = jnp.argmax(batched_predict(params, images), axis=1)\n",
        "    return jnp.mean(predicted_class == target_class)\n",
        "\n",
        "# use jit to speed up everything\n",
        "@jit\n",
        "def update(params, images, gt_lbls, lr=step_size):\n",
        "    # use grad to take the derivative of the loss \n",
        "    # with respect to the neural network parameters\n",
        "    loss_value, grads = value_and_grad(loss)(params, images, gt_lbls)\n",
        "    return loss_value, jax.tree_multimap(lambda p, g: p - lr*g, params, grads)\n",
        "\n",
        "# Training\n",
        "# Passing in an array of sizes that defines the number of activations for each layer and key\n",
        "params = init_network_params([np.prod(mnist_img_size), 512, 256, len(MNIST.classes)], key, step_size)\n",
        "\n",
        "loss_values = []\n",
        "# There are two main loops in the training function. \n",
        "# One loop for the number of epochs, which is the number of times to run the entire data set,\n",
        "# and a second loop for running through each observation one by one.\n",
        "for epoch in range(num_epochs):\n",
        "    losses = []\n",
        "    for cnt, (imgs, lbls) in enumerate(train_loader):\n",
        "        gt_labels = jax.nn.one_hot(lbls, len(MNIST.classes))\n",
        "        loss, params = update(params, imgs, gt_labels)    \n",
        "        losses.append(loss)\n",
        "    loss_values.append(jnp.average(losses))\n",
        "    print(f'Epoch {epoch}, train acc = {accuracy(params, train_images, train_lbls)} test acc = {accuracy(params, test_images, test_lbls)} loss = {loss_values[epoch]}')\n",
        "plt.plot(loss_values)\n",
        "plt.show()"
      ],
      "metadata": {
        "colab": {
          "base_uri": "https://localhost:8080/",
          "height": 438
        },
        "id": "nYHE0J8VduRl",
        "outputId": "84c9fd06-004b-41e6-c151-33ef61b999f7"
      },
      "execution_count": 25,
      "outputs": [
        {
          "output_type": "stream",
          "name": "stdout",
          "text": [
            "Epoch 0, train acc = 0.9142166972160339 test acc = 0.9169999957084656 loss = 0.054982125759124756\n",
            "Epoch 1, train acc = 0.9355666637420654 test acc = 0.9348999857902527 loss = 0.026666440069675446\n",
            "Epoch 2, train acc = 0.9470333456993103 test acc = 0.9444999694824219 loss = 0.021401291713118553\n",
            "Epoch 3, train acc = 0.9523833394050598 test acc = 0.9501000046730042 loss = 0.018027668818831444\n",
            "Epoch 4, train acc = 0.9585666656494141 test acc = 0.9532999992370605 loss = 0.015658993273973465\n",
            "Epoch 5, train acc = 0.9633833169937134 test acc = 0.9589999914169312 loss = 0.013738561421632767\n",
            "Epoch 6, train acc = 0.9694333672523499 test acc = 0.9627999663352966 loss = 0.012361864559352398\n",
            "Epoch 7, train acc = 0.9718000292778015 test acc = 0.9643999934196472 loss = 0.011097724549472332\n",
            "Epoch 8, train acc = 0.9749333262443542 test acc = 0.9670999646186829 loss = 0.010092552751302719\n",
            "Epoch 9, train acc = 0.9764666557312012 test acc = 0.967199981212616 loss = 0.009215205907821655\n"
          ]
        },
        {
          "output_type": "display_data",
          "data": {
            "text/plain": [
              "<Figure size 432x288 with 1 Axes>"
            ],
            "image/png": "[encoded data removed]"
          },
          "metadata": {
            "needs_background": "light"
          }
        }
      ]
    },
    {
      "cell_type": "markdown",
      "source": [
        "## Testing"
      ],
      "metadata": {
        "id": "1nGgx4rcF69n"
      }
    },
    {
      "cell_type": "code",
      "source": [
        "imgs, lbls = next(iter(test_loader))\n",
        "img = imgs[9].reshape(mnist_img_size)\n",
        "gt_lbl = lbls[9]\n",
        "print(img.shape)\n",
        "\n",
        "\n",
        "pred = jnp.argmax(predict(params, np.ravel(img)))\n",
        "print('prediction: ', pred)\n",
        "print('actual: ', gt_lbl)\n",
        "\n",
        "plt.imshow(img); plt.show()"
      ],
      "metadata": {
        "colab": {
          "base_uri": "https://localhost:8080/",
          "height": 317
        },
        "id": "KiUuIQhVY5Y2",
        "outputId": "488bcf00-9bb2-43c2-deb0-f1b0a4f903c2"
      },
      "execution_count": 26,
      "outputs": [
        {
          "output_type": "stream",
          "name": "stdout",
          "text": [
            "(28, 28)\n",
            "prediction:  9\n",
            "actual:  9\n"
          ]
        },
        {
          "output_type": "display_data",
          "data": {
            "text/plain": [
              "<Figure size 432x288 with 1 Axes>"
            ],
            "image/png": "[encoded data removed]"
          },
          "metadata": {
            "needs_background": "light"
          }
        }
      ]
    },
    {
      "cell_type": "markdown",
      "source": [
        "## Conclusion\n",
        "We’ve used the whole of the JAX API: grad for derivatives, jit for speedups and vmap for auto-vectorization. We used NumPy to specify all of our computation, and borrowed the great data loaders from torch/datasets."
      ],
      "metadata": {
        "id": "Rxn-CrLttGwB"
      }
    },
    {
      "cell_type": "markdown",
      "source": [
        "The most important thing to remember is that the neural network is simply trained to reduce output error by modifying weights and biases. Feedforward and backpropagation are used in the training process. Backpropagation adjusts weights and biases to reduce the output error, i.e. the difference between predicted and true values, whereas feedforward predicts output."
      ],
      "metadata": {
        "id": "vKXNzz8_76tK"
      }
    }
  ]
}